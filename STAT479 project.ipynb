{
 "cells": [
  {
   "cell_type": "markdown",
   "metadata": {},
   "source": [
    "## STAT 479 Project \n",
    "I want you guys to run the code in your computer. I don't know why, but i got 98.8% accurate result for the test data.\n",
    "If you guys open the test data, then it has only 26 images, so I divided the training data into test and training data.\n",
    "\n",
    "The first cell does the crop the image and save the image at the folder with the name of \"output\". \n",
    "For the file path, you guy should enter your own file path. \n",
    "\n",
    " "
   ]
  },
  {
   "cell_type": "code",
   "execution_count": 88,
   "metadata": {},
   "outputs": [
    {
     "name": "stderr",
     "output_type": "stream",
     "text": [
      "\r",
      "Executing Pipeline:   0%|          | 0/3000 [00:00<?, ? Samples/s]"
     ]
    },
    {
     "name": "stdout",
     "output_type": "stream",
     "text": [
      "Initialised with 3000 image(s) found.\n",
      "Output directory set to /Users/gregahn/Desktop/stat479project/STAT479-Project/sample/A/output."
     ]
    },
    {
     "name": "stderr",
     "output_type": "stream",
     "text": [
      "Processing <PIL.Image.Image image mode=RGB size=120x120 at 0x1A11E6CDD8>: 100%|██████████| 3000/3000 [00:13<00:00, 227.36 Samples/s]\n",
      "Processing <PIL.Image.Image image mode=RGB size=120x120 at 0x10BDEBB38>:   0%|          | 2/3000 [00:00<05:46,  8.66 Samples/s] "
     ]
    },
    {
     "name": "stdout",
     "output_type": "stream",
     "text": [
      "Initialised with 3000 image(s) found.\n",
      "Output directory set to /Users/gregahn/Desktop/stat479project/STAT479-Project/sample/B/output."
     ]
    },
    {
     "name": "stderr",
     "output_type": "stream",
     "text": [
      "Processing <PIL.Image.Image image mode=RGB size=120x120 at 0x1A1218E4E0>: 100%|██████████| 3000/3000 [00:12<00:00, 239.72 Samples/s]\n",
      "Processing <PIL.Image.Image image mode=RGB size=120x120 at 0x1A1244DD30>:   0%|          | 2/3000 [00:00<07:04,  7.07 Samples/s]"
     ]
    },
    {
     "name": "stdout",
     "output_type": "stream",
     "text": [
      "Initialised with 3000 image(s) found.\n",
      "Output directory set to /Users/gregahn/Desktop/stat479project/STAT479-Project/sample/C/output."
     ]
    },
    {
     "name": "stderr",
     "output_type": "stream",
     "text": [
      "Processing <PIL.Image.Image image mode=RGB size=120x120 at 0x1A0DC55BE0>: 100%|██████████| 3000/3000 [00:11<00:00, 258.01 Samples/s]\n",
      "Processing <PIL.Image.Image image mode=RGB size=120x120 at 0x1A125D95F8>:   0%|          | 1/3000 [00:00<07:49,  6.38 Samples/s]"
     ]
    },
    {
     "name": "stdout",
     "output_type": "stream",
     "text": [
      "Initialised with 3000 image(s) found.\n",
      "Output directory set to /Users/gregahn/Desktop/stat479project/STAT479-Project/sample/D/output."
     ]
    },
    {
     "name": "stderr",
     "output_type": "stream",
     "text": [
      "Processing <PIL.Image.Image image mode=RGB size=120x120 at 0x1A1232E048>: 100%|██████████| 3000/3000 [00:10<00:00, 280.62 Samples/s]\n",
      "Executing Pipeline:   0%|          | 0/3000 [00:00<?, ? Samples/s]"
     ]
    },
    {
     "name": "stdout",
     "output_type": "stream",
     "text": [
      "Initialised with 3000 image(s) found.\n",
      "Output directory set to /Users/gregahn/Desktop/stat479project/STAT479-Project/sample/E/output."
     ]
    },
    {
     "name": "stderr",
     "output_type": "stream",
     "text": [
      "Processing <PIL.Image.Image image mode=RGB size=120x120 at 0x1A124A2C88>: 100%|██████████| 3000/3000 [00:12<00:00, 240.09 Samples/s]\n",
      "Processing <PIL.Image.Image image mode=RGB size=120x120 at 0x1A0DBE07B8>:   0%|          | 3/3000 [00:00<03:35, 13.93 Samples/s]"
     ]
    },
    {
     "name": "stdout",
     "output_type": "stream",
     "text": [
      "Initialised with 3000 image(s) found.\n",
      "Output directory set to /Users/gregahn/Desktop/stat479project/STAT479-Project/sample/F/output."
     ]
    },
    {
     "name": "stderr",
     "output_type": "stream",
     "text": [
      "Processing <PIL.Image.Image image mode=RGB size=120x120 at 0x1A1234BE48>: 100%|██████████| 3000/3000 [00:16<00:00, 185.35 Samples/s]\n",
      "Processing <PIL.Image.Image image mode=RGB size=120x120 at 0x1A0DC537F0>:   0%|          | 1/3000 [00:00<08:39,  5.78 Samples/s]"
     ]
    },
    {
     "name": "stdout",
     "output_type": "stream",
     "text": [
      "Initialised with 3000 image(s) found.\n",
      "Output directory set to /Users/gregahn/Desktop/stat479project/STAT479-Project/sample/G/output."
     ]
    },
    {
     "name": "stderr",
     "output_type": "stream",
     "text": [
      "Processing <PIL.Image.Image image mode=RGB size=120x120 at 0x109A3A860>: 100%|██████████| 3000/3000 [00:11<00:00, 252.22 Samples/s] \n",
      "Executing Pipeline:   0%|          | 0/3000 [00:00<?, ? Samples/s]"
     ]
    },
    {
     "name": "stdout",
     "output_type": "stream",
     "text": [
      "Initialised with 3000 image(s) found.\n",
      "Output directory set to /Users/gregahn/Desktop/stat479project/STAT479-Project/sample/H/output."
     ]
    },
    {
     "name": "stderr",
     "output_type": "stream",
     "text": [
      "Processing <PIL.Image.Image image mode=RGB size=120x120 at 0x1A11F75DA0>: 100%|██████████| 3000/3000 [00:11<00:00, 263.90 Samples/s]\n",
      "Processing <PIL.Image.Image image mode=RGB size=120x120 at 0x1A123BD588>:   0%|          | 1/3000 [00:00<07:12,  6.94 Samples/s]"
     ]
    },
    {
     "name": "stdout",
     "output_type": "stream",
     "text": [
      "Initialised with 3000 image(s) found.\n",
      "Output directory set to /Users/gregahn/Desktop/stat479project/STAT479-Project/sample/I/output."
     ]
    },
    {
     "name": "stderr",
     "output_type": "stream",
     "text": [
      "Processing <PIL.Image.Image image mode=RGB size=120x120 at 0x1A1201E0B8>: 100%|██████████| 3000/3000 [00:11<00:00, 262.01 Samples/s]\n",
      "Processing <PIL.Image.Image image mode=RGB size=120x120 at 0x1A122AF8D0>:   0%|          | 2/3000 [00:00<04:03, 12.30 Samples/s]"
     ]
    },
    {
     "name": "stdout",
     "output_type": "stream",
     "text": [
      "Initialised with 3000 image(s) found.\n",
      "Output directory set to /Users/gregahn/Desktop/stat479project/STAT479-Project/sample/J/output."
     ]
    },
    {
     "name": "stderr",
     "output_type": "stream",
     "text": [
      "Processing <PIL.Image.Image image mode=RGB size=120x120 at 0x180D43CE48>: 100%|██████████| 3000/3000 [00:10<00:00, 277.67 Samples/s]\n",
      "Executing Pipeline:   0%|          | 0/3000 [00:00<?, ? Samples/s]"
     ]
    },
    {
     "name": "stdout",
     "output_type": "stream",
     "text": [
      "Initialised with 3000 image(s) found.\n",
      "Output directory set to /Users/gregahn/Desktop/stat479project/STAT479-Project/sample/K/output."
     ]
    },
    {
     "name": "stderr",
     "output_type": "stream",
     "text": [
      "Processing <PIL.Image.Image image mode=RGB size=120x120 at 0x1A123A1320>: 100%|██████████| 3000/3000 [00:10<00:00, 289.23 Samples/s]\n",
      "Processing <PIL.Image.Image image mode=RGB size=120x120 at 0x1A12026DA0>:   0%|          | 2/3000 [00:00<07:18,  6.83 Samples/s]"
     ]
    },
    {
     "name": "stdout",
     "output_type": "stream",
     "text": [
      "Initialised with 3000 image(s) found.\n",
      "Output directory set to /Users/gregahn/Desktop/stat479project/STAT479-Project/sample/L/output."
     ]
    },
    {
     "name": "stderr",
     "output_type": "stream",
     "text": [
      "Processing <PIL.Image.Image image mode=RGB size=120x120 at 0x1A0DC0B2E8>: 100%|██████████| 3000/3000 [00:10<00:00, 295.56 Samples/s]\n",
      "Executing Pipeline:   0%|          | 0/3000 [00:00<?, ? Samples/s]"
     ]
    },
    {
     "name": "stdout",
     "output_type": "stream",
     "text": [
      "Initialised with 3000 image(s) found.\n",
      "Output directory set to /Users/gregahn/Desktop/stat479project/STAT479-Project/sample/M/output."
     ]
    },
    {
     "name": "stderr",
     "output_type": "stream",
     "text": [
      "Processing <PIL.Image.Image image mode=RGB size=120x120 at 0x109AB43C8>: 100%|██████████| 3000/3000 [00:09<00:00, 306.27 Samples/s] \n",
      "Executing Pipeline:   0%|          | 0/3000 [00:00<?, ? Samples/s]"
     ]
    },
    {
     "name": "stdout",
     "output_type": "stream",
     "text": [
      "Initialised with 3000 image(s) found.\n",
      "Output directory set to /Users/gregahn/Desktop/stat479project/STAT479-Project/sample/N/output."
     ]
    },
    {
     "name": "stderr",
     "output_type": "stream",
     "text": [
      "Processing <PIL.Image.Image image mode=RGB size=120x120 at 0x1A12297748>: 100%|██████████| 3000/3000 [00:10<00:00, 380.08 Samples/s]\n",
      "Executing Pipeline:   0%|          | 0/3000 [00:00<?, ? Samples/s]"
     ]
    },
    {
     "name": "stdout",
     "output_type": "stream",
     "text": [
      "Initialised with 3000 image(s) found.\n",
      "Output directory set to /Users/gregahn/Desktop/stat479project/STAT479-Project/sample/O/output."
     ]
    },
    {
     "name": "stderr",
     "output_type": "stream",
     "text": [
      "Processing <PIL.Image.Image image mode=RGB size=120x120 at 0x1A1212A1D0>: 100%|██████████| 3000/3000 [00:10<00:00, 275.93 Samples/s]\n",
      "Processing <PIL.Image.Image image mode=RGB size=120x120 at 0x1A12179FD0>:   0%|          | 0/3000 [00:00<?, ? Samples/s]"
     ]
    },
    {
     "name": "stdout",
     "output_type": "stream",
     "text": [
      "Initialised with 3000 image(s) found.\n",
      "Output directory set to /Users/gregahn/Desktop/stat479project/STAT479-Project/sample/P/output."
     ]
    },
    {
     "name": "stderr",
     "output_type": "stream",
     "text": [
      "Processing <PIL.Image.Image image mode=RGB size=120x120 at 0x1A122A9B38>: 100%|██████████| 3000/3000 [00:10<00:00, 280.08 Samples/s]\n",
      "Processing <PIL.Image.Image image mode=RGB size=120x120 at 0x1A0DD69C88>:   0%|          | 3/3000 [00:00<05:50,  8.55 Samples/s]"
     ]
    },
    {
     "name": "stdout",
     "output_type": "stream",
     "text": [
      "Initialised with 3000 image(s) found.\n",
      "Output directory set to /Users/gregahn/Desktop/stat479project/STAT479-Project/sample/Q/output."
     ]
    },
    {
     "name": "stderr",
     "output_type": "stream",
     "text": [
      "Processing <PIL.Image.Image image mode=RGB size=120x120 at 0x109A4C5F8>: 100%|██████████| 3000/3000 [00:12<00:00, 242.76 Samples/s] \n",
      "Executing Pipeline:   0%|          | 0/3000 [00:00<?, ? Samples/s]"
     ]
    },
    {
     "name": "stdout",
     "output_type": "stream",
     "text": [
      "Initialised with 3000 image(s) found.\n",
      "Output directory set to /Users/gregahn/Desktop/stat479project/STAT479-Project/sample/R/output."
     ]
    },
    {
     "name": "stderr",
     "output_type": "stream",
     "text": [
      "Processing <PIL.Image.Image image mode=RGB size=120x120 at 0x1A123694E0>: 100%|██████████| 3000/3000 [00:10<00:00, 276.64 Samples/s]\n",
      "Executing Pipeline:   0%|          | 0/3000 [00:00<?, ? Samples/s]"
     ]
    },
    {
     "name": "stdout",
     "output_type": "stream",
     "text": [
      "Initialised with 3000 image(s) found.\n",
      "Output directory set to /Users/gregahn/Desktop/stat479project/STAT479-Project/sample/S/output."
     ]
    },
    {
     "name": "stderr",
     "output_type": "stream",
     "text": [
      "Processing <PIL.Image.Image image mode=RGB size=120x120 at 0x180D40FE80>: 100%|██████████| 3000/3000 [00:10<00:00, 275.76 Samples/s]\n",
      "Processing <PIL.Image.Image image mode=RGB size=120x120 at 0x1A120011D0>:   0%|          | 1/3000 [00:00<05:41,  8.79 Samples/s]"
     ]
    },
    {
     "name": "stdout",
     "output_type": "stream",
     "text": [
      "Initialised with 3000 image(s) found.\n",
      "Output directory set to /Users/gregahn/Desktop/stat479project/STAT479-Project/sample/T/output."
     ]
    },
    {
     "name": "stderr",
     "output_type": "stream",
     "text": [
      "Processing <PIL.Image.Image image mode=RGB size=120x120 at 0x1A1212F160>: 100%|██████████| 3000/3000 [00:10<00:00, 291.06 Samples/s]\n",
      "Processing <PIL.Image.Image image mode=RGB size=120x120 at 0x1A12080860>:   0%|          | 5/3000 [00:00<02:38, 18.89 Samples/s]"
     ]
    },
    {
     "name": "stdout",
     "output_type": "stream",
     "text": [
      "Initialised with 3000 image(s) found.\n",
      "Output directory set to /Users/gregahn/Desktop/stat479project/STAT479-Project/sample/U/output."
     ]
    },
    {
     "name": "stderr",
     "output_type": "stream",
     "text": [
      "Processing <PIL.Image.Image image mode=RGB size=120x120 at 0x1A0DD8C5C0>: 100%|██████████| 3000/3000 [00:10<00:00, 293.79 Samples/s]\n",
      "Executing Pipeline:   0%|          | 0/3000 [00:00<?, ? Samples/s]"
     ]
    },
    {
     "name": "stdout",
     "output_type": "stream",
     "text": [
      "Initialised with 3000 image(s) found.\n",
      "Output directory set to /Users/gregahn/Desktop/stat479project/STAT479-Project/sample/V/output."
     ]
    },
    {
     "name": "stderr",
     "output_type": "stream",
     "text": [
      "Processing <PIL.Image.Image image mode=RGB size=120x120 at 0x1A11F9DEB8>: 100%|██████████| 3000/3000 [00:10<00:00, 275.70 Samples/s]\n",
      "Executing Pipeline:   0%|          | 0/3000 [00:00<?, ? Samples/s]"
     ]
    },
    {
     "name": "stdout",
     "output_type": "stream",
     "text": [
      "Initialised with 3000 image(s) found.\n",
      "Output directory set to /Users/gregahn/Desktop/stat479project/STAT479-Project/sample/Nothing/output."
     ]
    },
    {
     "name": "stderr",
     "output_type": "stream",
     "text": [
      "Processing <PIL.Image.Image image mode=RGB size=120x120 at 0x1A122C9320>: 100%|██████████| 3000/3000 [00:10<00:00, 279.18 Samples/s]\n"
     ]
    }
   ],
   "source": [
    "from PIL import Image\n",
    "import Augmentor as ag\n",
    "import glob \n",
    "\n",
    "file_label = ['A', 'B', 'C', 'D', 'E', 'F', 'G', 'H', 'I', 'J', 'K', 'L', 'M', 'N', 'O', 'P', 'Q', 'R','S','T', 'U', 'V', 'W', 'X', 'Y', 'Z', 'Spance', 'Nothing']\n",
    "\n",
    "for i in file_label:\n",
    "    file_path = '/Users/gregahn/Desktop/stat479project/STAT479-Project/sample/' + i\n",
    "    for filename in glob.glob(file_path):\n",
    "        s = ag.Pipeline(filename)\n",
    "        s.crop_centre(probability = 1, percentage_area = 0.6)\n",
    "        s.sample(3000)"
   ]
  },
  {
   "cell_type": "markdown",
   "metadata": {},
   "source": [
    "This cell transform image into 28*28 pixels and make 3D image arrary into 1D array with size of 784*1. \n",
    "I used the torchvision that our processor sent us through the mail to resize the image into 28*28 and transfrom the image into 784 x 1 array. "
   ]
  },
  {
   "cell_type": "code",
   "execution_count": 120,
   "metadata": {},
   "outputs": [
    {
     "name": "stdout",
     "output_type": "stream",
     "text": [
      "[ 0  0  0 ... 27 27 27]\n",
      "(72000, 784)\n",
      "(72000,)\n",
      "i finally got here\n"
     ]
    }
   ],
   "source": [
    "from sklearn.ensemble import RandomForestClassifier\n",
    "from PIL import Image\n",
    "import glob\n",
    "import numpy as np\n",
    "import torchvision \n",
    "\n",
    "def load_image(file_name):\n",
    "    img = Image.open(file_name)\n",
    "    #img = img.convert('1')\n",
    "    img = torchvision.transforms.functional.resize(img, 28, interpolation=2)\n",
    "    img = np.array(img,np.uint8)\n",
    "    #print(img)\n",
    "    data = img[:,:,0]\n",
    "    #change 28 x 28 to 784 x1 2d array \n",
    "    data = data.reshape(-1)\n",
    "    #data = data[np.newaxis, :]\n",
    "    return data\n",
    "\n"
   ]
  },
  {
   "cell_type": "code",
   "execution_count": 122,
   "metadata": {},
   "outputs": [
    {
     "name": "stdout",
     "output_type": "stream",
     "text": [
      "(64800, 784)\n",
      "(64800,)\n",
      "i finally got here\n"
     ]
    }
   ],
   "source": [
    "from mlxtend.preprocessing import shuffle_arrays_unison\n",
    "y_label = ['A', 'B', 'C', 'D', 'E', 'F', 'G', 'H', 'I', 'J', 'K', 'L', 'M', 'N', 'O', 'P', 'Q', 'R','S','T', 'U', 'V', 'W', 'X', 'Y', 'Z', 'Spance', 'Nothing']\n",
    "\n",
    "x = []\n",
    "y = []\n",
    "\n",
    "\n",
    "\n",
    "model = RandomForestClassifier(n_estimators = 100, random_state = 7)\n",
    "for i in range(0, len(y_label)):\n",
    "    path = '/Users/gregahn/Desktop/stat479project/STAT479-Project/sample/'+ y_label[i] +'/output/*.jpg'\n",
    "    for filename in glob.glob(path):\n",
    "        im = load_image(filename)\n",
    "        x.append(im)\n",
    "        y.append(i)\n",
    "\n",
    "x = np.array(x)\n",
    "y = np.array(y)\n",
    "\n",
    "x,y = shuffle_arrays_unison((x, y), random_seed=1)\n",
    "X_train, y_train = x[:64800], y[:64800]\n",
    "X_test, y_test = x[64800:], y[64800:]\n",
    "\n",
    "print(X_train.shape)\n",
    "print(y_train.shape)\n",
    "model.fit(X_train, y_train)"
   ]
  },
  {
   "cell_type": "code",
   "execution_count": 123,
   "metadata": {},
   "outputs": [
    {
     "name": "stdout",
     "output_type": "stream",
     "text": [
      "Accuracy 98.8%\n"
     ]
    }
   ],
   "source": [
    "acc = model.score(X_test, y_test)*100\n",
    "print('Accuracy %.1f%%' % acc)"
   ]
  },
  {
   "cell_type": "code",
   "execution_count": null,
   "metadata": {},
   "outputs": [],
   "source": []
  }
 ],
 "metadata": {
  "kernelspec": {
   "display_name": "Python 3",
   "language": "python",
   "name": "python3"
  },
  "language_info": {
   "codemirror_mode": {
    "name": "ipython",
    "version": 3
   },
   "file_extension": ".py",
   "mimetype": "text/x-python",
   "name": "python",
   "nbconvert_exporter": "python",
   "pygments_lexer": "ipython3",
   "version": "3.6.5"
  }
 },
 "nbformat": 4,
 "nbformat_minor": 2
}
