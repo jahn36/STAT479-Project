{
 "cells": [
  {
   "cell_type": "markdown",
   "metadata": {},
   "source": [
    "## STAT 479 Project \n",
    "I want you guys to run the code in your computer. I don't know why, but i got 98.8% accurate result for the test data.\n",
    "If you guys open the test data, then it has only 26 images, so I divided the training data into test and training data.\n",
    "\n",
    "The first cell does the crop the image and save the image at the folder with the name of \"output\". \n",
    "For the file path, you guy should enter your own file path. \n",
    "\n",
    " "
   ]
  },
  {
   "cell_type": "code",
   "execution_count": 126,
   "metadata": {},
   "outputs": [
    {
     "name": "stderr",
     "output_type": "stream",
     "text": [
      "Processing <PIL.Image.Image image mode=RGB size=120x120 at 0x1A123086A0>:   0%|          | 5/3000 [00:00<02:49, 17.63 Samples/s]"
     ]
    },
    {
     "name": "stdout",
     "output_type": "stream",
     "text": [
      "Initialised with 3000 image(s) found.\n",
      "Output directory set to /Users/gregahn/Desktop/stat479project/STAT479-Project/sample/A/output."
     ]
    },
    {
     "name": "stderr",
     "output_type": "stream",
     "text": [
      "Processing <PIL.Image.Image image mode=RGB size=120x120 at 0x1A1B1F6198>: 100%|██████████| 3000/3000 [00:13<00:00, 220.96 Samples/s]\n",
      "Processing <PIL.Image.Image image mode=RGB size=120x120 at 0x1A121B4C50>:   0%|          | 5/3000 [00:00<06:28,  7.71 Samples/s]"
     ]
    },
    {
     "name": "stdout",
     "output_type": "stream",
     "text": [
      "Initialised with 3000 image(s) found.\n",
      "Output directory set to /Users/gregahn/Desktop/stat479project/STAT479-Project/sample/B/output."
     ]
    },
    {
     "name": "stderr",
     "output_type": "stream",
     "text": [
      "Processing <PIL.Image.Image image mode=RGB size=120x120 at 0x1A1B177550>: 100%|██████████| 3000/3000 [00:12<00:00, 237.59 Samples/s]\n",
      "Processing <PIL.Image.Image image mode=RGB size=120x120 at 0x1A1740C588>:   0%|          | 2/3000 [00:00<06:58,  7.17 Samples/s]"
     ]
    },
    {
     "name": "stdout",
     "output_type": "stream",
     "text": [
      "Initialised with 3000 image(s) found.\n",
      "Output directory set to /Users/gregahn/Desktop/stat479project/STAT479-Project/sample/C/output."
     ]
    },
    {
     "name": "stderr",
     "output_type": "stream",
     "text": [
      "Processing <PIL.Image.Image image mode=RGB size=120x120 at 0x1A12AF25C0>: 100%|██████████| 3000/3000 [00:13<00:00, 220.99 Samples/s]\n",
      "Processing <PIL.Image.Image image mode=RGB size=120x120 at 0x1A1B15E630>:   0%|          | 1/3000 [00:00<09:02,  5.53 Samples/s]"
     ]
    },
    {
     "name": "stdout",
     "output_type": "stream",
     "text": [
      "Initialised with 3000 image(s) found.\n",
      "Output directory set to /Users/gregahn/Desktop/stat479project/STAT479-Project/sample/D/output."
     ]
    },
    {
     "name": "stderr",
     "output_type": "stream",
     "text": [
      "Processing <PIL.Image.Image image mode=RGB size=120x120 at 0x1A126E8828>: 100%|██████████| 3000/3000 [00:15<00:00, 196.49 Samples/s]\n",
      "Processing <PIL.Image.Image image mode=RGB size=120x120 at 0x1A179E16A0>:   0%|          | 4/3000 [00:00<07:04,  7.06 Samples/s]"
     ]
    },
    {
     "name": "stdout",
     "output_type": "stream",
     "text": [
      "Initialised with 3000 image(s) found.\n",
      "Output directory set to /Users/gregahn/Desktop/stat479project/STAT479-Project/sample/E/output."
     ]
    },
    {
     "name": "stderr",
     "output_type": "stream",
     "text": [
      "Processing <PIL.Image.Image image mode=RGB size=120x120 at 0x1A1292B0B8>: 100%|██████████| 3000/3000 [00:14<00:00, 210.62 Samples/s]\n",
      "Processing <PIL.Image.Image image mode=RGB size=120x120 at 0x1A12AD70F0>:   0%|          | 15/3000 [00:00<07:29,  6.65 Samples/s]"
     ]
    },
    {
     "name": "stdout",
     "output_type": "stream",
     "text": [
      "Initialised with 3000 image(s) found.\n",
      "Output directory set to /Users/gregahn/Desktop/stat479project/STAT479-Project/sample/F/output."
     ]
    },
    {
     "name": "stderr",
     "output_type": "stream",
     "text": [
      "Processing <PIL.Image.Image image mode=RGB size=120x120 at 0x1A1B1A7EB8>: 100%|██████████| 3000/3000 [00:11<00:00, 259.19 Samples/s]\n",
      "Processing <PIL.Image.Image image mode=RGB size=120x120 at 0x1A1B17F860>:   0%|          | 2/3000 [00:00<05:08,  9.72 Samples/s]"
     ]
    },
    {
     "name": "stdout",
     "output_type": "stream",
     "text": [
      "Initialised with 3000 image(s) found.\n",
      "Output directory set to /Users/gregahn/Desktop/stat479project/STAT479-Project/sample/G/output."
     ]
    },
    {
     "name": "stderr",
     "output_type": "stream",
     "text": [
      "Processing <PIL.Image.Image image mode=RGB size=120x120 at 0x1A1B22F160>: 100%|██████████| 3000/3000 [00:12<00:00, 242.83 Samples/s]\n",
      "Processing <PIL.Image.Image image mode=RGB size=120x120 at 0x1A17407128>:   0%|          | 6/3000 [00:00<08:15,  6.04 Samples/s]"
     ]
    },
    {
     "name": "stdout",
     "output_type": "stream",
     "text": [
      "Initialised with 3000 image(s) found.\n",
      "Output directory set to /Users/gregahn/Desktop/stat479project/STAT479-Project/sample/H/output."
     ]
    },
    {
     "name": "stderr",
     "output_type": "stream",
     "text": [
      "Processing <PIL.Image.Image image mode=RGB size=120x120 at 0x1A17CE4F98>: 100%|██████████| 3000/3000 [00:12<00:00, 244.27 Samples/s]\n",
      "Processing <PIL.Image.Image image mode=RGB size=120x120 at 0x1A179C25C0>:   0%|          | 1/3000 [00:00<08:37,  5.79 Samples/s]"
     ]
    },
    {
     "name": "stdout",
     "output_type": "stream",
     "text": [
      "Initialised with 3000 image(s) found.\n",
      "Output directory set to /Users/gregahn/Desktop/stat479project/STAT479-Project/sample/I/output."
     ]
    },
    {
     "name": "stderr",
     "output_type": "stream",
     "text": [
      "Processing <PIL.Image.Image image mode=RGB size=120x120 at 0x1A1B2B92B0>: 100%|██████████| 3000/3000 [00:12<00:00, 239.56 Samples/s]\n",
      "Processing <PIL.Image.Image image mode=RGB size=120x120 at 0x1A1B389A20>:   0%|          | 2/3000 [00:00<06:25,  7.78 Samples/s]"
     ]
    },
    {
     "name": "stdout",
     "output_type": "stream",
     "text": [
      "Initialised with 3000 image(s) found.\n",
      "Output directory set to /Users/gregahn/Desktop/stat479project/STAT479-Project/sample/J/output."
     ]
    },
    {
     "name": "stderr",
     "output_type": "stream",
     "text": [
      "Processing <PIL.Image.Image image mode=RGB size=120x120 at 0x1A173F5EF0>: 100%|██████████| 3000/3000 [00:11<00:00, 253.51 Samples/s]\n",
      "Processing <PIL.Image.Image image mode=RGB size=120x120 at 0x1A128C9EF0>:   0%|          | 13/3000 [00:00<01:01, 48.61 Samples/s]"
     ]
    },
    {
     "name": "stdout",
     "output_type": "stream",
     "text": [
      "Initialised with 3000 image(s) found.\n",
      "Output directory set to /Users/gregahn/Desktop/stat479project/STAT479-Project/sample/K/output."
     ]
    },
    {
     "name": "stderr",
     "output_type": "stream",
     "text": [
      "Processing <PIL.Image.Image image mode=RGB size=120x120 at 0x1A173CCB38>: 100%|██████████| 3000/3000 [00:11<00:00, 267.58 Samples/s]\n",
      "Processing <PIL.Image.Image image mode=RGB size=120x120 at 0x1A1B1CEB38>:   0%|          | 1/3000 [00:00<06:41,  7.47 Samples/s]"
     ]
    },
    {
     "name": "stdout",
     "output_type": "stream",
     "text": [
      "Initialised with 3000 image(s) found.\n",
      "Output directory set to /Users/gregahn/Desktop/stat479project/STAT479-Project/sample/L/output."
     ]
    },
    {
     "name": "stderr",
     "output_type": "stream",
     "text": [
      "Processing <PIL.Image.Image image mode=RGB size=120x120 at 0x1A1B2CE4A8>: 100%|██████████| 3000/3000 [00:10<00:00, 292.91 Samples/s]\n",
      "Processing <PIL.Image.Image image mode=RGB size=120x120 at 0x1A1B389F60>:   0%|          | 1/3000 [00:00<08:34,  5.83 Samples/s]"
     ]
    },
    {
     "name": "stdout",
     "output_type": "stream",
     "text": [
      "Initialised with 3000 image(s) found.\n",
      "Output directory set to /Users/gregahn/Desktop/stat479project/STAT479-Project/sample/M/output."
     ]
    },
    {
     "name": "stderr",
     "output_type": "stream",
     "text": [
      "Processing <PIL.Image.Image image mode=RGB size=120x120 at 0x1A12A5D080>: 100%|██████████| 3000/3000 [00:10<00:00, 287.54 Samples/s]\n",
      "Processing <PIL.Image.Image image mode=RGB size=120x120 at 0x1A179C34A8>:   1%|          | 16/3000 [00:00<00:35, 85.05 Samples/s]"
     ]
    },
    {
     "name": "stdout",
     "output_type": "stream",
     "text": [
      "Initialised with 3000 image(s) found.\n",
      "Output directory set to /Users/gregahn/Desktop/stat479project/STAT479-Project/sample/N/output."
     ]
    },
    {
     "name": "stderr",
     "output_type": "stream",
     "text": [
      "Processing <PIL.Image.Image image mode=RGB size=120x120 at 0x1A12B00470>: 100%|██████████| 3000/3000 [00:09<00:00, 301.43 Samples/s]\n",
      "Processing <PIL.Image.Image image mode=RGB size=120x120 at 0x1A1B1B1A20>:   0%|          | 1/3000 [00:00<08:46,  5.69 Samples/s]"
     ]
    },
    {
     "name": "stdout",
     "output_type": "stream",
     "text": [
      "Initialised with 3000 image(s) found.\n",
      "Output directory set to /Users/gregahn/Desktop/stat479project/STAT479-Project/sample/O/output."
     ]
    },
    {
     "name": "stderr",
     "output_type": "stream",
     "text": [
      "Processing <PIL.Image.Image image mode=RGB size=120x120 at 0x1A179CA780>: 100%|██████████| 3000/3000 [00:10<00:00, 295.62 Samples/s]\n",
      "Executing Pipeline:   0%|          | 0/3000 [00:00<?, ? Samples/s]"
     ]
    },
    {
     "name": "stdout",
     "output_type": "stream",
     "text": [
      "Initialised with 3000 image(s) found.\n",
      "Output directory set to /Users/gregahn/Desktop/stat479project/STAT479-Project/sample/P/output."
     ]
    },
    {
     "name": "stderr",
     "output_type": "stream",
     "text": [
      "Processing <PIL.Image.Image image mode=RGB size=120x120 at 0x1A12A6B7F0>: 100%|██████████| 3000/3000 [00:11<00:00, 266.39 Samples/s]\n",
      "Processing <PIL.Image.Image image mode=RGB size=120x120 at 0x1A0DC2A160>:   1%|          | 17/3000 [00:00<00:30, 99.16 Samples/s]"
     ]
    },
    {
     "name": "stdout",
     "output_type": "stream",
     "text": [
      "Initialised with 3000 image(s) found.\n",
      "Output directory set to /Users/gregahn/Desktop/stat479project/STAT479-Project/sample/Q/output."
     ]
    },
    {
     "name": "stderr",
     "output_type": "stream",
     "text": [
      "Processing <PIL.Image.Image image mode=RGB size=120x120 at 0x1A12A7A1D0>: 100%|██████████| 3000/3000 [00:10<00:00, 273.18 Samples/s]\n",
      "Processing <PIL.Image.Image image mode=RGB size=120x120 at 0x1A12AE3518>:   0%|          | 11/3000 [00:00<00:44, 66.77 Samples/s]"
     ]
    },
    {
     "name": "stdout",
     "output_type": "stream",
     "text": [
      "Initialised with 3000 image(s) found.\n",
      "Output directory set to /Users/gregahn/Desktop/stat479project/STAT479-Project/sample/R/output."
     ]
    },
    {
     "name": "stderr",
     "output_type": "stream",
     "text": [
      "Processing <PIL.Image.Image image mode=RGB size=120x120 at 0x1A1B3CF080>: 100%|██████████| 3000/3000 [00:10<00:00, 280.07 Samples/s]\n",
      "Processing <PIL.Image.Image image mode=RGB size=120x120 at 0x1A1B3221D0>:   0%|          | 1/3000 [00:00<08:18,  6.02 Samples/s]"
     ]
    },
    {
     "name": "stdout",
     "output_type": "stream",
     "text": [
      "Initialised with 3000 image(s) found.\n",
      "Output directory set to /Users/gregahn/Desktop/stat479project/STAT479-Project/sample/S/output."
     ]
    },
    {
     "name": "stderr",
     "output_type": "stream",
     "text": [
      "Processing <PIL.Image.Image image mode=RGB size=120x120 at 0x1A178BDCF8>: 100%|██████████| 3000/3000 [00:10<00:00, 299.09 Samples/s]\n",
      "Processing <PIL.Image.Image image mode=RGB size=120x120 at 0x1A12AFBB00>:   0%|          | 12/3000 [00:00<06:58,  7.14 Samples/s]"
     ]
    },
    {
     "name": "stdout",
     "output_type": "stream",
     "text": [
      "Initialised with 3000 image(s) found.\n",
      "Output directory set to /Users/gregahn/Desktop/stat479project/STAT479-Project/sample/T/output."
     ]
    },
    {
     "name": "stderr",
     "output_type": "stream",
     "text": [
      "Processing <PIL.Image.Image image mode=RGB size=120x120 at 0x1A17441860>: 100%|██████████| 3000/3000 [00:10<00:00, 284.34 Samples/s]\n",
      "Processing <PIL.Image.Image image mode=RGB size=120x120 at 0x1A126F80B8>:   1%|          | 24/3000 [00:00<00:57, 51.69 Samples/s]"
     ]
    },
    {
     "name": "stdout",
     "output_type": "stream",
     "text": [
      "Initialised with 3000 image(s) found.\n",
      "Output directory set to /Users/gregahn/Desktop/stat479project/STAT479-Project/sample/U/output."
     ]
    },
    {
     "name": "stderr",
     "output_type": "stream",
     "text": [
      "Processing <PIL.Image.Image image mode=RGB size=120x120 at 0x1A175320B8>: 100%|██████████| 3000/3000 [00:10<00:00, 290.05 Samples/s]\n",
      "Processing <PIL.Image.Image image mode=RGB size=120x120 at 0x1A1742A828>:   0%|          | 2/3000 [00:00<07:04,  7.06 Samples/s]"
     ]
    },
    {
     "name": "stdout",
     "output_type": "stream",
     "text": [
      "Initialised with 3000 image(s) found.\n",
      "Output directory set to /Users/gregahn/Desktop/stat479project/STAT479-Project/sample/V/output."
     ]
    },
    {
     "name": "stderr",
     "output_type": "stream",
     "text": [
      "Processing <PIL.Image.Image image mode=RGB size=120x120 at 0x1A178964E0>: 100%|██████████| 3000/3000 [00:09<00:00, 307.03 Samples/s]\n",
      "Executing Pipeline:   0%|          | 0/3000 [00:00<?, ? Samples/s]"
     ]
    },
    {
     "name": "stdout",
     "output_type": "stream",
     "text": [
      "Initialised with 3000 image(s) found.\n",
      "Output directory set to /Users/gregahn/Desktop/stat479project/STAT479-Project/sample/space/output."
     ]
    },
    {
     "name": "stderr",
     "output_type": "stream",
     "text": [
      "Processing <PIL.Image.Image image mode=RGB size=120x120 at 0x1A1B2B9128>: 100%|██████████| 3000/3000 [00:10<00:00, 277.80 Samples/s]\n",
      "Processing <PIL.Image.Image image mode=RGB size=120x120 at 0x1A17367FD0>:   1%|          | 27/3000 [00:00<00:27, 109.32 Samples/s]"
     ]
    },
    {
     "name": "stdout",
     "output_type": "stream",
     "text": [
      "Initialised with 3000 image(s) found.\n",
      "Output directory set to /Users/gregahn/Desktop/stat479project/STAT479-Project/sample/nothing/output."
     ]
    },
    {
     "name": "stderr",
     "output_type": "stream",
     "text": [
      "Processing <PIL.Image.Image image mode=RGB size=120x120 at 0x1A12A95A90>: 100%|██████████| 3000/3000 [00:13<00:00, 219.91 Samples/s]\n",
      "Executing Pipeline:   0%|          | 0/3000 [00:00<?, ? Samples/s]"
     ]
    },
    {
     "name": "stdout",
     "output_type": "stream",
     "text": [
      "Initialised with 3000 image(s) found.\n",
      "Output directory set to /Users/gregahn/Desktop/stat479project/STAT479-Project/sample/del/output."
     ]
    },
    {
     "name": "stderr",
     "output_type": "stream",
     "text": [
      "Processing <PIL.Image.Image image mode=RGB size=120x120 at 0x1A1767F2E8>: 100%|██████████| 3000/3000 [00:12<00:00, 236.80 Samples/s]\n"
     ]
    }
   ],
   "source": [
    "from PIL import Image\n",
    "import Augmentor as ag\n",
    "import glob \n",
    "\n",
    "file_label =['A', 'B', 'C', 'D', 'E', 'F', 'G', 'H', 'I', 'J', 'K', 'L', 'M', 'N', 'O', 'P', 'Q', 'R','S','T', 'U', 'V', 'W', 'X', 'Y', 'Z', 'space', 'nothing','del']\n",
    "\n",
    "\n",
    "for i in file_label:\n",
    "    file_path = '/Users/gregahn/Desktop/stat479project/STAT479-Project/sample/' + i\n",
    "    for filename in glob.glob(file_path):\n",
    "        s = ag.Pipeline(filename)\n",
    "        s.crop_centre(probability = 1, percentage_area = 0.6)\n",
    "        s.sample(3000)"
   ]
  },
  {
   "cell_type": "markdown",
   "metadata": {},
   "source": [
    "This cell transform image into 28*28 pixels and make 3D image arrary into 1D array with size of 784*1. \n",
    "I used the torchvision that our processor sent us through the mail to resize the image into 28*28 and transfrom the image into 784 x 1 array. "
   ]
  },
  {
   "cell_type": "code",
   "execution_count": 127,
   "metadata": {},
   "outputs": [],
   "source": [
    "from sklearn.ensemble import RandomForestClassifier\n",
    "from PIL import Image\n",
    "import glob\n",
    "import numpy as np\n",
    "import torchvision \n",
    "\n",
    "def load_image(file_name):\n",
    "    img = Image.open(file_name)\n",
    "    #img = img.convert('1')\n",
    "    img = torchvision.transforms.functional.resize(img, 28, interpolation=2)\n",
    "    img = np.array(img,np.uint8)\n",
    "    #print(img)\n",
    "    data = img[:,:,0]\n",
    "    #change 28 x 28 to 784 x1 2d array \n",
    "    data = data.reshape(-1)\n",
    "    #data = data[np.newaxis, :]\n",
    "    return data\n",
    "\n"
   ]
  },
  {
   "cell_type": "code",
   "execution_count": 128,
   "metadata": {},
   "outputs": [
    {
     "name": "stdout",
     "output_type": "stream",
     "text": [
      "(64800, 784)\n",
      "(64800,)\n"
     ]
    },
    {
     "data": {
      "text/plain": [
       "RandomForestClassifier(bootstrap=True, class_weight=None, criterion='gini',\n",
       "            max_depth=None, max_features='auto', max_leaf_nodes=None,\n",
       "            min_impurity_decrease=0.0, min_impurity_split=None,\n",
       "            min_samples_leaf=1, min_samples_split=2,\n",
       "            min_weight_fraction_leaf=0.0, n_estimators=100, n_jobs=1,\n",
       "            oob_score=False, random_state=7, verbose=0, warm_start=False)"
      ]
     },
     "execution_count": 128,
     "metadata": {},
     "output_type": "execute_result"
    }
   ],
   "source": [
    "from mlxtend.preprocessing import shuffle_arrays_unison\n",
    "y_label = ['A', 'B', 'C', 'D', 'E', 'F', 'G', 'H', 'I', 'J', 'K', 'L', 'M', 'N', 'O', 'P', 'Q', 'R','S','T', 'U', 'V', 'W', 'X', 'Y', 'Z', 'space', 'nothing','del']\n",
    "\n",
    "x = []\n",
    "y = []\n",
    "\n",
    "\n",
    "\n",
    "model = RandomForestClassifier(n_estimators = 100, random_state = 7)\n",
    "for i in range(0, len(y_label)):\n",
    "    path = '/Users/gregahn/Desktop/stat479project/STAT479-Project/sample/'+ y_label[i] +'/output/*.jpg'\n",
    "    for filename in glob.glob(path):\n",
    "        im = load_image(filename)\n",
    "        x.append(im)\n",
    "        y.append(i)\n",
    "\n",
    "x = np.array(x)\n",
    "y = np.array(y)\n",
    "\n",
    "x,y = shuffle_arrays_unison((x, y), random_seed=1)\n",
    "X_train, y_train = x[:64800], y[:64800]\n",
    "X_test, y_test = x[64800:], y[64800:]\n",
    "\n",
    "print(X_train.shape)\n",
    "print(y_train.shape)\n",
    "model.fit(X_train, y_train)"
   ]
  },
  {
   "cell_type": "code",
   "execution_count": 129,
   "metadata": {},
   "outputs": [
    {
     "name": "stdout",
     "output_type": "stream",
     "text": [
      "Accuracy 98.8%\n"
     ]
    }
   ],
   "source": [
    "acc = model.score(X_test, y_test)*100\n",
    "print('Accuracy %.1f%%' % acc)"
   ]
  },
  {
   "cell_type": "code",
   "execution_count": null,
   "metadata": {},
   "outputs": [],
   "source": []
  }
 ],
 "metadata": {
  "kernelspec": {
   "display_name": "Python 3",
   "language": "python",
   "name": "python3"
  },
  "language_info": {
   "codemirror_mode": {
    "name": "ipython",
    "version": 3
   },
   "file_extension": ".py",
   "mimetype": "text/x-python",
   "name": "python",
   "nbconvert_exporter": "python",
   "pygments_lexer": "ipython3",
   "version": "3.6.5"
  }
 },
 "nbformat": 4,
 "nbformat_minor": 2
}
