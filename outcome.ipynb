{
 "cells": [
  {
   "cell_type": "markdown",
   "metadata": {},
   "source": [
    "Use the preprocessed data to build the model"
   ]
  },
  {
   "cell_type": "code",
   "execution_count": 155,
   "metadata": {},
   "outputs": [],
   "source": [
    "from sklearn.ensemble import RandomForestClassifier\n",
    "from PIL import Image\n",
    "import glob\n",
    "import numpy as np\n",
    "\n",
    "def load_image(file_name):\n",
    "    img = Image.open(file_name)\n",
    "    #img = img.convert('1')\n",
    "    img = np.array(img,np.uint8)\n",
    "    \n",
    "    a = img[100:,:].reshape(-1)\n",
    "    b = img[:100,:100].reshape(-1)\n",
    "    data = np.append(b,a)\n",
    "\n",
    "    return data"
   ]
  },
  {
   "cell_type": "code",
   "execution_count": 156,
   "metadata": {},
   "outputs": [
    {
     "data": {
      "text/plain": [
       "array([1, 2, 3, 4, 5, 6])"
      ]
     },
     "execution_count": 156,
     "metadata": {},
     "output_type": "execute_result"
    }
   ],
   "source": [
    "a = np.array([1,2,3])\n",
    "b = np.array([4,5,6])\n",
    "np.append(a,b)"
   ]
  },
  {
   "cell_type": "code",
   "execution_count": 157,
   "metadata": {},
   "outputs": [
    {
     "name": "stdout",
     "output_type": "stream",
     "text": [
      "[array([255, 255, 255, ..., 255, 255, 255], dtype=uint8), array([255, 255, 255, ..., 255, 255, 255], dtype=uint8), array([255, 255, 255, ..., 255, 255, 255], dtype=uint8), array([255, 255, 255, ..., 255, 255, 255], dtype=uint8), array([255, 255, 255, ..., 255, 255, 255], dtype=uint8), array([255, 255, 255, ..., 255, 255, 255], dtype=uint8), array([255, 255, 255, ..., 255, 255, 255], dtype=uint8), array([255, 255, 255, ..., 255, 255, 255], dtype=uint8), array([255, 255, 255, ..., 255, 255, 255], dtype=uint8), array([255, 255, 255, ..., 255, 255, 255], dtype=uint8), array([255, 255, 255, ..., 255, 255, 255], dtype=uint8), array([255, 255, 255, ..., 255, 255, 255], dtype=uint8), array([255, 255, 255, ..., 255, 255, 255], dtype=uint8), array([255, 255, 255, ..., 255, 255, 255], dtype=uint8), array([255, 255, 255, ..., 255, 255, 255], dtype=uint8), array([255, 255, 255, ..., 255, 255, 255], dtype=uint8), array([255, 255, 255, ..., 255, 255, 255], dtype=uint8), array([255, 255, 255, ..., 255, 255, 255], dtype=uint8), array([255, 255, 255, ..., 255, 255, 255], dtype=uint8), array([255, 255, 255, ..., 255, 255, 255], dtype=uint8), array([255, 255, 255, ..., 255, 255, 255], dtype=uint8), array([255, 255, 255, ..., 255, 255, 255], dtype=uint8), array([255, 255, 255, ..., 255, 255, 255], dtype=uint8), array([255, 255, 255, ..., 255, 255, 255], dtype=uint8), array([255, 255, 255, ..., 255, 255, 255], dtype=uint8), array([255, 255, 255, ..., 255, 255, 255], dtype=uint8), array([255, 255, 255, ..., 255, 255, 255], dtype=uint8), array([255, 255, 255, ..., 255, 255, 255], dtype=uint8)]\n",
      "[0, 1, 2, 3, 4, 5, 6, 7, 8, 9, 10, 11, 12, 13, 14, 15, 16, 17, 18, 19, 20, 21, 22, 23, 24, 25, 26, 27]\n"
     ]
    }
   ],
   "source": [
    "#import the pictures taken by ourselves\n",
    "new_x_test = []\n",
    "new_y_test = []\n",
    "\n",
    "y_label = ['A', 'B', 'C', 'D', 'E', 'F', 'G', 'H', 'I', 'J', 'K', 'L', 'M', 'N', 'O', 'P', 'Q', 'R','S','T', 'U', 'V', 'W', 'X', 'Y', 'Z', 'space', 'del']\n",
    "\n",
    "for i in range(0, len(y_label)):\n",
    "    path = '/Users/qintaoying/Desktop/STAT-479/GP/asl-alphabet/pre_data/test0/'+ y_label[i] +'/*.jpg'\n",
    "    for filename in glob.glob(path):\n",
    "        im = load_image(filename)\n",
    "        new_x_test.append(im)\n",
    "        new_y_test.append(i)\n",
    "        \n",
    "print(new_x_test)\n",
    "print(new_y_test)"
   ]
  },
  {
   "cell_type": "code",
   "execution_count": 158,
   "metadata": {},
   "outputs": [
    {
     "name": "stdout",
     "output_type": "stream",
     "text": [
      "(5063, 30000)\n",
      "(5063,)\n",
      "(4000, 30000)\n",
      "(4000,)\n"
     ]
    },
    {
     "data": {
      "text/plain": [
       "RandomForestClassifier(bootstrap=True, class_weight=None, criterion='gini',\n",
       "            max_depth=None, max_features='auto', max_leaf_nodes=None,\n",
       "            min_impurity_decrease=0.0, min_impurity_split=None,\n",
       "            min_samples_leaf=1, min_samples_split=2,\n",
       "            min_weight_fraction_leaf=0.0, n_estimators=100, n_jobs=1,\n",
       "            oob_score=False, random_state=7, verbose=0, warm_start=False)"
      ]
     },
     "execution_count": 158,
     "metadata": {},
     "output_type": "execute_result"
    }
   ],
   "source": [
    "from mlxtend.preprocessing import shuffle_arrays_unison\n",
    "y_label = ['A', 'B', 'C', 'D', 'E', 'F', 'G', 'H', 'I', 'J', 'K', 'L', 'M', 'N', 'O', 'P', 'Q', 'R','S','T', 'U', 'V', 'W', 'X', 'Y', 'Z', 'space', 'del']\n",
    "\n",
    "x = []\n",
    "y = []\n",
    "\n",
    "\n",
    "\n",
    "model = RandomForestClassifier(n_estimators = 100, random_state = 7)\n",
    "for i in range(0, len(y_label)):\n",
    "    path = '/Users/qintaoying/Desktop/STAT-479/GP/asl-alphabet/pre_data/'+ y_label[i] +'result/*.jpg'\n",
    "    for filename in glob.glob(path):\n",
    "        im = load_image(filename)\n",
    "        x.append(im)\n",
    "        y.append(i)\n",
    "\n",
    "x = np.array(x)\n",
    "y = np.array(y)\n",
    "print(x.shape)\n",
    "print(y.shape)\n",
    "\n",
    "x,y = shuffle_arrays_unison((x, y), random_seed=1)\n",
    "X_train, y_train = x[:4000], y[:4000] #5063*0.9\n",
    "X_test, y_test = x[4000:], y[4000:] #5063*0.9\n",
    "\n",
    "print(X_train.shape)\n",
    "print(y_train.shape)\n",
    "model.fit(X_train, y_train)"
   ]
  },
  {
   "cell_type": "code",
   "execution_count": 159,
   "metadata": {},
   "outputs": [
    {
     "name": "stdout",
     "output_type": "stream",
     "text": [
      "Accuracy 98.7%\n"
     ]
    }
   ],
   "source": [
    "acc = model.score(X_test, y_test)*100\n",
    "print('Accuracy %.1f%%' % acc)"
   ]
  },
  {
   "cell_type": "code",
   "execution_count": 63,
   "metadata": {},
   "outputs": [
    {
     "name": "stdout",
     "output_type": "stream",
     "text": [
      "Accuracy 7.1%\n"
     ]
    }
   ],
   "source": [
    "acc = model.score(new_x_test, new_y_test) * 100\n",
    "print('Accuracy %.1f%%' % acc)"
   ]
  },
  {
   "cell_type": "code",
   "execution_count": 31,
   "metadata": {},
   "outputs": [
    {
     "name": "stdout",
     "output_type": "stream",
     "text": [
      "[0, 1, 2, 3, 4, 5, 6, 7, 8, 9, 10, 11, 12, 13, 14, 15, 16, 17, 18, 19, 20, 21, 22, 23, 24, 25, 26, 27]\n"
     ]
    },
    {
     "data": {
      "text/plain": [
       "array([15, 22, 22, 22, 22, 22, 16, 16, 22, 10, 26, 22, 26, 26, 22, 10, 10,\n",
       "       22, 26, 26, 22, 26, 26, 26, 15, 22, 15, 15])"
      ]
     },
     "execution_count": 31,
     "metadata": {},
     "output_type": "execute_result"
    }
   ],
   "source": [
    "print(new_y_test)\n",
    "model.predict(new_x_test)"
   ]
  },
  {
   "cell_type": "code",
   "execution_count": 105,
   "metadata": {},
   "outputs": [
    {
     "data": {
      "image/png": "[encoded data removed]",
      "text/plain": [
       "<Figure size 806.4x806.4 with 1 Axes>"
      ]
     },
     "metadata": {},
     "output_type": "display_data"
    }
   ],
   "source": [
    "#construct a multiclass confusion matrix here\n",
    "import numpy as np\n",
    "\n",
    "\n",
    "def confusion_matrix_multiclass(y_true, y_predicted):\n",
    "\n",
    "    matrix = np.zeros(28*28).reshape(28, 28).astype(int)\n",
    "    for i,j in zip(y_true, y_predicted):\n",
    "        if i == j:\n",
    "            matrix[i, i] += 1\n",
    "        else:\n",
    "            matrix[i, j] += 1\n",
    "    \n",
    "    return matrix\n",
    "\n",
    "y_true =      y_test\n",
    "y_predicted = model.predict(X_test)\n",
    "\n",
    "result_matrix = confusion_matrix_multiclass(y_true, y_predicted)\n",
    "result_matrix\n",
    "\n",
    "#plot the confussion matrix\n",
    "from helper import plot_confusion_matrix\n",
    "\n",
    "\n",
    "plot_confusion_matrix(result_matrix, figsize = (len(result_matrix)*0.4, len(result_matrix)*0.4))\n",
    "plt.show()"
   ]
  },
  {
   "cell_type": "markdown",
   "metadata": {},
   "source": [
    "Use KNN model here"
   ]
  },
  {
   "cell_type": "code",
   "execution_count": 64,
   "metadata": {},
   "outputs": [
    {
     "data": {
      "text/plain": [
       "KNeighborsClassifier(algorithm='auto', leaf_size=30, metric='minkowski',\n",
       "           metric_params=None, n_jobs=1, n_neighbors=5, p=2,\n",
       "           weights='uniform')"
      ]
     },
     "execution_count": 64,
     "metadata": {},
     "output_type": "execute_result"
    }
   ],
   "source": [
    "from sklearn.neighbors import KNeighborsClassifier\n",
    "\n",
    "knn = KNeighborsClassifier(n_neighbors = 5)\n",
    "knn.fit(X_train, y_train)"
   ]
  },
  {
   "cell_type": "code",
   "execution_count": 82,
   "metadata": {},
   "outputs": [
    {
     "name": "stdout",
     "output_type": "stream",
     "text": [
      "Accuracy 97.6%\n"
     ]
    }
   ],
   "source": [
    "acc = knn.score(X_test, y_test)*100\n",
    "print(\"Accuracy %.1f%%\" % acc)"
   ]
  },
  {
   "cell_type": "code",
   "execution_count": 106,
   "metadata": {
    "scrolled": true
   },
   "outputs": [
    {
     "data": {
      "image/png": "[encoded data removed]",
      "text/plain": [
       "<Figure size 806.4x806.4 with 1 Axes>"
      ]
     },
     "metadata": {},
     "output_type": "display_data"
    }
   ],
   "source": [
    "#construct a multiclass confusion matrix here\n",
    "import numpy as np\n",
    "\n",
    "\n",
    "def confusion_matrix_multiclass(y_true, y_predicted):\n",
    "\n",
    "    matrix = np.zeros(28*28).reshape(28, 28).astype(int)\n",
    "    for i,j in zip(y_true, y_predicted):\n",
    "        if i == j:\n",
    "            matrix[i, i] += 1\n",
    "        else:\n",
    "            matrix[i, j] += 1\n",
    "    \n",
    "    return matrix\n",
    "\n",
    "y_true =      y_test\n",
    "y_predicted = knn.predict(X_test)\n",
    "\n",
    "result_matrix = confusion_matrix_multiclass(y_true, y_predicted)\n",
    "result_matrix\n",
    "\n",
    "#plot the confussion matrix\n",
    "from helper import plot_confusion_matrix\n",
    "\n",
    "\n",
    "plot_confusion_matrix(result_matrix, figsize = (len(result_matrix)*0.4, len(result_matrix)*0.4))\n",
    "plt.show()"
   ]
  },
  {
   "cell_type": "markdown",
   "metadata": {},
   "source": [
    "Use the Argumentor dataset here"
   ]
  },
  {
   "cell_type": "code",
   "execution_count": 161,
   "metadata": {},
   "outputs": [],
   "source": [
    "from sklearn.ensemble import RandomForestClassifier\n",
    "from PIL import Image\n",
    "import glob\n",
    "import numpy as np\n",
    "import torchvision \n",
    "\n",
    "def load_image(file_name):\n",
    "    img = Image.open(file_name)\n",
    "    img = torchvision.transforms.functional.resize(img, 28, interpolation=2)\n",
    "    img = img.convert('1')\n",
    "    img = np.array(img,np.uint8)\n",
    "    data = img.reshape(-1)\n",
    "    #data = data[np.newaxis, :]\n",
    "    return data"
   ]
  },
  {
   "cell_type": "code",
   "execution_count": 162,
   "metadata": {},
   "outputs": [
    {
     "name": "stdout",
     "output_type": "stream",
     "text": [
      "[0, 1, 2, 3, 4, 5, 6, 7, 8, 9, 10, 11, 12, 13, 14, 15, 16, 17, 18, 19, 20, 21, 22, 23, 24, 25, 26, 27, 28]\n"
     ]
    }
   ],
   "source": [
    "new_x_test = []\n",
    "new_y_test = []\n",
    "\n",
    "y_label = ['A', 'B', 'C', 'D', 'E', 'F', 'G', 'H', 'I', 'J', 'K', 'L', 'M', 'N', 'O', 'P', 'Q', 'R','S','T', 'U', 'V', 'W', 'X', 'Y', 'Z', 'space', 'nothing', 'del']\n",
    "\n",
    "for i in range(0, len(y_label)):\n",
    "    path = '/Users/qintaoying/Desktop/STAT-479/GP/asl-alphabet/pre_data/test/'+ y_label[i] +'/*.jpg'\n",
    "    for filename in glob.glob(path):\n",
    "        im = load_image(filename)\n",
    "        new_x_test.append(im)\n",
    "        new_y_test.append(i)\n",
    "        \n",
    "print(new_y_test)"
   ]
  },
  {
   "cell_type": "code",
   "execution_count": 163,
   "metadata": {},
   "outputs": [
    {
     "name": "stdout",
     "output_type": "stream",
     "text": [
      "(64800, 784)\n",
      "(64800,)\n"
     ]
    },
    {
     "data": {
      "text/plain": [
       "RandomForestClassifier(bootstrap=True, class_weight=None, criterion='gini',\n",
       "            max_depth=None, max_features='auto', max_leaf_nodes=None,\n",
       "            min_impurity_decrease=0.0, min_impurity_split=None,\n",
       "            min_samples_leaf=1, min_samples_split=2,\n",
       "            min_weight_fraction_leaf=0.0, n_estimators=100, n_jobs=1,\n",
       "            oob_score=False, random_state=7, verbose=0, warm_start=False)"
      ]
     },
     "execution_count": 163,
     "metadata": {},
     "output_type": "execute_result"
    }
   ],
   "source": [
    "from mlxtend.preprocessing import shuffle_arrays_unison\n",
    "y_label = ['A', 'B', 'C', 'D', 'E', 'F', 'G', 'H', 'I', 'J', 'K', 'L', 'M', 'N', \n",
    "           'O', 'P', 'Q', 'R','S','T', 'U', 'V', 'W', 'X', 'Y', 'Z', 'space', 'nothing', 'del']\n",
    "\n",
    "x = []\n",
    "y = []\n",
    "\n",
    "model = RandomForestClassifier(n_estimators = 100, random_state = 7)\n",
    "for i in range(0, len(y_label)):\n",
    "    path = '/Users/qintaoying/Desktop/STAT-479/GP/asl-alphabet/asl_alphabet_train/'+ y_label[i] +'/output/*.jpg'\n",
    "    for filename in glob.glob(path):\n",
    "        im = load_image(filename)\n",
    "        x.append(im)\n",
    "        y.append(i)\n",
    "\n",
    "x = np.array(x)\n",
    "y = np.array(y)\n",
    "\n",
    "x,y = shuffle_arrays_unison((x, y), random_seed=1)\n",
    "X_train, y_train = x[:64800], y[:64800]\n",
    "X_test, y_test = x[64800:], y[64800:]\n",
    "\n",
    "print(X_train.shape)\n",
    "print(y_train.shape)\n",
    "model.fit(X_train, y_train)"
   ]
  },
  {
   "cell_type": "code",
   "execution_count": 164,
   "metadata": {},
   "outputs": [
    {
     "name": "stdout",
     "output_type": "stream",
     "text": [
      "Accuracy 87.1%\n"
     ]
    }
   ],
   "source": [
    "acc = model.score(X_test, y_test)*100\n",
    "print('Accuracy %.1f%%' % acc)"
   ]
  },
  {
   "cell_type": "code",
   "execution_count": 165,
   "metadata": {},
   "outputs": [
    {
     "name": "stdout",
     "output_type": "stream",
     "text": [
      "Accuracy 3.4%\n"
     ]
    }
   ],
   "source": [
    "acc = model.score(new_x_test, new_y_test)*100\n",
    "print('Accuracy %.1f%%' % acc)"
   ]
  },
  {
   "cell_type": "code",
   "execution_count": 147,
   "metadata": {},
   "outputs": [
    {
     "data": {
      "text/plain": [
       "array([ 4, 28,  4,  4,  4,  4,  0,  4,  4,  2,  4,  4,  4,  4,  4,  4,  4,\n",
       "       28,  4, 28,  4,  4,  4,  4, 28,  4,  4,  4, 28])"
      ]
     },
     "execution_count": 147,
     "metadata": {},
     "output_type": "execute_result"
    }
   ],
   "source": [
    "model.predict(new_x_test)"
   ]
  },
  {
   "cell_type": "code",
   "execution_count": null,
   "metadata": {},
   "outputs": [],
   "source": []
  }
 ],
 "metadata": {
  "kernelspec": {
   "display_name": "Python 3",
   "language": "python",
   "name": "python3"
  },
  "language_info": {
   "codemirror_mode": {
    "name": "ipython",
    "version": 3
   },
   "file_extension": ".py",
   "mimetype": "text/x-python",
   "name": "python",
   "nbconvert_exporter": "python",
   "pygments_lexer": "ipython3",
   "version": "3.6.5"
  }
 },
 "nbformat": 4,
 "nbformat_minor": 2
}
